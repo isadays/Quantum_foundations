{
  "nbformat": 4,
  "nbformat_minor": 0,
  "metadata": {
    "colab": {
      "provenance": [],
      "authorship_tag": "ABX9TyN+dgB4gf8rWTnuBLnjVpAo"
    },
    "kernelspec": {
      "name": "python3",
      "display_name": "Python 3"
    },
    "language_info": {
      "name": "python"
    }
  },
  "cells": [
    {
      "cell_type": "code",
      "source": [
        "#!pip install qiskit"
      ],
      "metadata": {
        "colab": {
          "base_uri": "https://localhost:8080/"
        },
        "id": "Nru0RiJu9Xc5",
        "outputId": "322abf4c-229e-4438-83ee-9b29e10dea1c"
      },
      "execution_count": 2,
      "outputs": [
        {
          "output_type": "stream",
          "name": "stdout",
          "text": [
            "Collecting qiskit\n",
            "  Downloading qiskit-1.4.1-cp39-abi3-manylinux_2_17_x86_64.manylinux2014_x86_64.whl.metadata (12 kB)\n",
            "Collecting rustworkx>=0.15.0 (from qiskit)\n",
            "  Downloading rustworkx-0.16.0-cp39-abi3-manylinux_2_17_x86_64.manylinux2014_x86_64.whl.metadata (10 kB)\n",
            "Requirement already satisfied: numpy<3,>=1.17 in /usr/local/lib/python3.11/dist-packages (from qiskit) (1.26.4)\n",
            "Requirement already satisfied: scipy>=1.5 in /usr/local/lib/python3.11/dist-packages (from qiskit) (1.14.1)\n",
            "Requirement already satisfied: sympy>=1.3 in /usr/local/lib/python3.11/dist-packages (from qiskit) (1.13.1)\n",
            "Collecting dill>=0.3 (from qiskit)\n",
            "  Downloading dill-0.3.9-py3-none-any.whl.metadata (10 kB)\n",
            "Requirement already satisfied: python-dateutil>=2.8.0 in /usr/local/lib/python3.11/dist-packages (from qiskit) (2.8.2)\n",
            "Collecting stevedore>=3.0.0 (from qiskit)\n",
            "  Downloading stevedore-5.4.1-py3-none-any.whl.metadata (2.3 kB)\n",
            "Requirement already satisfied: typing-extensions in /usr/local/lib/python3.11/dist-packages (from qiskit) (4.12.2)\n",
            "Collecting symengine<0.14,>=0.11 (from qiskit)\n",
            "  Downloading symengine-0.13.0-cp311-cp311-manylinux_2_17_x86_64.manylinux2014_x86_64.whl.metadata (1.2 kB)\n",
            "Requirement already satisfied: six>=1.5 in /usr/local/lib/python3.11/dist-packages (from python-dateutil>=2.8.0->qiskit) (1.17.0)\n",
            "Collecting pbr>=2.0.0 (from stevedore>=3.0.0->qiskit)\n",
            "  Downloading pbr-6.1.1-py2.py3-none-any.whl.metadata (3.4 kB)\n",
            "Requirement already satisfied: mpmath<1.4,>=1.1.0 in /usr/local/lib/python3.11/dist-packages (from sympy>=1.3->qiskit) (1.3.0)\n",
            "Requirement already satisfied: setuptools in /usr/local/lib/python3.11/dist-packages (from pbr>=2.0.0->stevedore>=3.0.0->qiskit) (75.1.0)\n",
            "Downloading qiskit-1.4.1-cp39-abi3-manylinux_2_17_x86_64.manylinux2014_x86_64.whl (6.7 MB)\n",
            "\u001b[2K   \u001b[90m━━━━━━━━━━━━━━━━━━━━━━━━━━━━━━━━━━━━━━━━\u001b[0m \u001b[32m6.7/6.7 MB\u001b[0m \u001b[31m36.5 MB/s\u001b[0m eta \u001b[36m0:00:00\u001b[0m\n",
            "\u001b[?25hDownloading dill-0.3.9-py3-none-any.whl (119 kB)\n",
            "\u001b[2K   \u001b[90m━━━━━━━━━━━━━━━━━━━━━━━━━━━━━━━━━━━━━━━━\u001b[0m \u001b[32m119.4/119.4 kB\u001b[0m \u001b[31m7.4 MB/s\u001b[0m eta \u001b[36m0:00:00\u001b[0m\n",
            "\u001b[?25hDownloading rustworkx-0.16.0-cp39-abi3-manylinux_2_17_x86_64.manylinux2014_x86_64.whl (2.1 MB)\n",
            "\u001b[2K   \u001b[90m━━━━━━━━━━━━━━━━━━━━━━━━━━━━━━━━━━━━━━━━\u001b[0m \u001b[32m2.1/2.1 MB\u001b[0m \u001b[31m50.7 MB/s\u001b[0m eta \u001b[36m0:00:00\u001b[0m\n",
            "\u001b[?25hDownloading stevedore-5.4.1-py3-none-any.whl (49 kB)\n",
            "\u001b[2K   \u001b[90m━━━━━━━━━━━━━━━━━━━━━━━━━━━━━━━━━━━━━━━━\u001b[0m \u001b[32m49.5/49.5 kB\u001b[0m \u001b[31m3.2 MB/s\u001b[0m eta \u001b[36m0:00:00\u001b[0m\n",
            "\u001b[?25hDownloading symengine-0.13.0-cp311-cp311-manylinux_2_17_x86_64.manylinux2014_x86_64.whl (49.7 MB)\n",
            "\u001b[2K   \u001b[90m━━━━━━━━━━━━━━━━━━━━━━━━━━━━━━━━━━━━━━━━\u001b[0m \u001b[32m49.7/49.7 MB\u001b[0m \u001b[31m15.3 MB/s\u001b[0m eta \u001b[36m0:00:00\u001b[0m\n",
            "\u001b[?25hDownloading pbr-6.1.1-py2.py3-none-any.whl (108 kB)\n",
            "\u001b[2K   \u001b[90m━━━━━━━━━━━━━━━━━━━━━━━━━━━━━━━━━━━━━━━━\u001b[0m \u001b[32m109.0/109.0 kB\u001b[0m \u001b[31m5.7 MB/s\u001b[0m eta \u001b[36m0:00:00\u001b[0m\n",
            "\u001b[?25hInstalling collected packages: symengine, rustworkx, pbr, dill, stevedore, qiskit\n",
            "Successfully installed dill-0.3.9 pbr-6.1.1 qiskit-1.4.1 rustworkx-0.16.0 stevedore-5.4.1 symengine-0.13.0\n"
          ]
        }
      ]
    },
    {
      "cell_type": "code",
      "source": [
        "!pip install qiskit-aer\n"
      ],
      "metadata": {
        "colab": {
          "base_uri": "https://localhost:8080/"
        },
        "id": "5hsra6sr9myD",
        "outputId": "33c7f11f-4905-4459-d768-2e7c17c3d34e"
      },
      "execution_count": 4,
      "outputs": [
        {
          "output_type": "stream",
          "name": "stdout",
          "text": [
            "Collecting qiskit-aer\n",
            "  Downloading qiskit_aer-0.16.4-cp311-cp311-manylinux_2_17_x86_64.manylinux2014_x86_64.whl.metadata (8.2 kB)\n",
            "Requirement already satisfied: qiskit>=1.1.0 in /usr/local/lib/python3.11/dist-packages (from qiskit-aer) (1.4.1)\n",
            "Requirement already satisfied: numpy>=1.16.3 in /usr/local/lib/python3.11/dist-packages (from qiskit-aer) (1.26.4)\n",
            "Requirement already satisfied: scipy>=1.0 in /usr/local/lib/python3.11/dist-packages (from qiskit-aer) (1.14.1)\n",
            "Requirement already satisfied: psutil>=5 in /usr/local/lib/python3.11/dist-packages (from qiskit-aer) (5.9.5)\n",
            "Requirement already satisfied: rustworkx>=0.15.0 in /usr/local/lib/python3.11/dist-packages (from qiskit>=1.1.0->qiskit-aer) (0.16.0)\n",
            "Requirement already satisfied: sympy>=1.3 in /usr/local/lib/python3.11/dist-packages (from qiskit>=1.1.0->qiskit-aer) (1.13.1)\n",
            "Requirement already satisfied: dill>=0.3 in /usr/local/lib/python3.11/dist-packages (from qiskit>=1.1.0->qiskit-aer) (0.3.9)\n",
            "Requirement already satisfied: python-dateutil>=2.8.0 in /usr/local/lib/python3.11/dist-packages (from qiskit>=1.1.0->qiskit-aer) (2.8.2)\n",
            "Requirement already satisfied: stevedore>=3.0.0 in /usr/local/lib/python3.11/dist-packages (from qiskit>=1.1.0->qiskit-aer) (5.4.1)\n",
            "Requirement already satisfied: typing-extensions in /usr/local/lib/python3.11/dist-packages (from qiskit>=1.1.0->qiskit-aer) (4.12.2)\n",
            "Requirement already satisfied: symengine<0.14,>=0.11 in /usr/local/lib/python3.11/dist-packages (from qiskit>=1.1.0->qiskit-aer) (0.13.0)\n",
            "Requirement already satisfied: six>=1.5 in /usr/local/lib/python3.11/dist-packages (from python-dateutil>=2.8.0->qiskit>=1.1.0->qiskit-aer) (1.17.0)\n",
            "Requirement already satisfied: pbr>=2.0.0 in /usr/local/lib/python3.11/dist-packages (from stevedore>=3.0.0->qiskit>=1.1.0->qiskit-aer) (6.1.1)\n",
            "Requirement already satisfied: mpmath<1.4,>=1.1.0 in /usr/local/lib/python3.11/dist-packages (from sympy>=1.3->qiskit>=1.1.0->qiskit-aer) (1.3.0)\n",
            "Requirement already satisfied: setuptools in /usr/local/lib/python3.11/dist-packages (from pbr>=2.0.0->stevedore>=3.0.0->qiskit>=1.1.0->qiskit-aer) (75.1.0)\n",
            "Downloading qiskit_aer-0.16.4-cp311-cp311-manylinux_2_17_x86_64.manylinux2014_x86_64.whl (12.4 MB)\n",
            "\u001b[2K   \u001b[90m━━━━━━━━━━━━━━━━━━━━━━━━━━━━━━━━━━━━━━━━\u001b[0m \u001b[32m12.4/12.4 MB\u001b[0m \u001b[31m92.2 MB/s\u001b[0m eta \u001b[36m0:00:00\u001b[0m\n",
            "\u001b[?25hInstalling collected packages: qiskit-aer\n",
            "Successfully installed qiskit-aer-0.16.4\n"
          ]
        }
      ]
    },
    {
      "cell_type": "code",
      "execution_count": 9,
      "metadata": {
        "id": "914cUsuR9Dbh"
      },
      "outputs": [],
      "source": [
        "from qiskit_aer import Aer\n",
        "import numpy as np\n",
        "\n",
        "def quantum_swap_test(psi, phi, shots=1024):\n",
        "    n = len(psi)\n",
        "    qc = QuantumCircuit(1 + 2 * n, 1)\n",
        "\n",
        "    qc.h(0)\n",
        "\n",
        "\n",
        "    for i, angle in enumerate(psi):\n",
        "        qc.ry(angle, i + 1)\n",
        "    for i, angle in enumerate(phi):\n",
        "        qc.ry(angle, i + n + 1)\n",
        "\n",
        "    for i in range(n):\n",
        "        qc.cswap(0, i + 1, i + n + 1)\n",
        "\n",
        "    qc.h(0)\n",
        "    qc.measure(0, 0)\n",
        "\n",
        "    backend = Aer.get_backend('qasm_simulator')\n",
        "    job = backend.run(qc, shots=shots)\n",
        "    result = job.result()\n",
        "    counts = result.get_counts()\n",
        "\n",
        "    prob_0 = counts.get('0', 0) / shots\n",
        "    similarity = 2 * prob_0 - 1  # Probability difference\n",
        "\n",
        "    return similarity, counts\n"
      ]
    },
    {
      "cell_type": "code",
      "source": [
        "psi = [np.pi / 2, np.pi / 4]\n",
        "phi = [np.pi / 3, np.pi / 6]\n",
        "\n",
        "similarity, counts = quantum_swap_test(psi, phi)\n",
        "print(\"Similarity:\", similarity)\n",
        "print(\"Measurement counts:\", counts)"
      ],
      "metadata": {
        "colab": {
          "base_uri": "https://localhost:8080/"
        },
        "id": "6irnG0vo9PL7",
        "outputId": "cf322875-268f-44cc-beb0-9efab037dd62"
      },
      "execution_count": 10,
      "outputs": [
        {
          "output_type": "stream",
          "name": "stdout",
          "text": [
            "Similarity: 0.919921875\n",
            "Measurement counts: {'1': 41, '0': 983}\n"
          ]
        }
      ]
    },
    {
      "cell_type": "code",
      "source": [
        "import torch\n",
        "\n",
        "similarities = torch.tensor([0.9199, 0.8, 0.5])\n",
        "attention_weights = torch.softmax(similarities, dim=0)\n",
        "print(attention_weights)"
      ],
      "metadata": {
        "colab": {
          "base_uri": "https://localhost:8080/"
        },
        "id": "0UdHW7uB-YKV",
        "outputId": "5554ff6d-0562-462d-d356-680fdac3d7bc"
      },
      "execution_count": 11,
      "outputs": [
        {
          "output_type": "stream",
          "name": "stdout",
          "text": [
            "tensor([0.3931, 0.3487, 0.2583])\n"
          ]
        }
      ]
    },
    {
      "cell_type": "code",
      "source": [
        "import torch\n",
        "import torch.nn as nn\n",
        "from qiskit import QuantumCircuit\n",
        "from qiskit_aer import Aer\n",
        "import numpy as np\n",
        "\n",
        "class QuantumAttention(nn.Module):\n",
        "    def __init__(self, embedding_dim, shots=512):\n",
        "        super(QuantumAttention, self).__init__()\n",
        "        self.embedding_dim = embedding_dim\n",
        "        self.shots = shots\n",
        "        self.backend = Aer.get_backend('qasm_simulator')\n",
        "\n",
        "    def quantum_similarity(self, vec_a, vec_b):\n",
        "        qc = QuantumCircuit(1 + 2 * self.embedding_dim, 1)\n",
        "\n",
        "        qc.h(0)\n",
        "\n",
        "        for i, angle in enumerate(vec_a):\n",
        "            qc.ry(angle, i + 1)\n",
        "        for i, angle in enumerate(vec_b):\n",
        "            qc.ry(angle, i + self.embedding_dim + 1)\n",
        "\n",
        "        for i in range(self.embedding_dim):\n",
        "            qc.cswap(0, i + 1, i + self.embedding_dim + 1)\n",
        "\n",
        "        qc.h(0)\n",
        "        qc.measure(0, 0)\n",
        "\n",
        "        result = self.backend.run(qc, shots=self.shots).result()\n",
        "        counts = result.get_counts()\n",
        "        prob_0 = counts.get('0', 0) / self.shots\n",
        "        similarity = 2 * prob_0 - 1\n",
        "        return similarity\n",
        "\n",
        "    def forward(self, queries, keys, values):\n",
        "        batch_size, seq_len, _ = queries.size()\n",
        "        attn_scores = torch.zeros(batch_size, seq_len, seq_len)\n",
        "\n",
        "        queries_np = queries.detach().numpy()\n",
        "        keys_np = keys.detach().numpy()\n",
        "\n",
        "        for b in range(batch_size):\n",
        "            for i in range(seq_len):\n",
        "                for j in range(seq_len):\n",
        "                    sim = self.quantum_similarity(queries_np[b, i], keys_np[b, j])\n",
        "                    attn_scores[b, i, j] = sim\n",
        "\n",
        "        attn_weights = torch.softmax(attn_scores, dim=-1)\n",
        "        output = torch.matmul(attn_weights, values)\n",
        "        return output\n",
        "\n",
        "    def quantum_similarity(self, vec_a, vec_b):\n",
        "\n",
        "        vec_a = np.clip(vec_a, -1, 1) * np.pi\n",
        "        vec_b = np.clip(vec_b, -1, 1) * np.pi\n",
        "\n",
        "        qc = QuantumCircuit(1 + 2 * len(vec_a), 1)\n",
        "        qc.h(0)\n",
        "\n",
        "        for i, angle in enumerate(vec_a):\n",
        "            qc.ry(angle, i + 1)\n",
        "        for i, angle in enumerate(vec_b):\n",
        "            qc.ry(angle, i + len(vec_a) + 1)\n",
        "\n",
        "        for i in range(len(vec_a)):\n",
        "            qc.cswap(0, i + 1, i + len(vec_a) + 1)\n",
        "\n",
        "        qc.h(0)\n",
        "        qc.measure(0, 0)\n",
        "\n",
        "        result = self.backend.run(qc, shots=self.shots).result()\n",
        "        counts = result.get_counts()\n",
        "        prob_0 = counts.get('0', 0) / self.shots\n",
        "        similarity = 2 * prob_0 - 1\n",
        "        return similarity\n",
        "\n",
        "class TransformerClassic(nn.Module):\n",
        "    def __init__(self, embedding_dim=128, num_heads=4):\n",
        "        super().__init__()\n",
        "        self.attention = nn.MultiheadAttention(embed_dim=embedding_dim, num_heads=num_heads)\n",
        "\n",
        "    def forward(self, x):\n",
        "        x = x.permute(1, 0, 2)\n",
        "        attn_output, _ = self.attention(x, x, x)\n",
        "        return attn_output.permute(1, 0, 2)\n",
        "\n",
        "\n",
        "class TransformerQuantum(nn.Module):\n",
        "    def __init__(self, embedding_dim=4, shots=256):\n",
        "        super().__init__()\n",
        "        self.attention = QuantumAttention(embedding_dim=embedding_dim, shots=shots)\n",
        "\n",
        "    def forward(self, x):\n",
        "        return self.attention(x, x, x)\n",
        "\n"
      ],
      "metadata": {
        "id": "FWpARQCv-orq"
      },
      "execution_count": 12,
      "outputs": []
    },
    {
      "cell_type": "code",
      "source": [
        "batch_size = 2\n",
        "seq_len = 3\n",
        "embedding_dim_classic = 128\n",
        "embedding_dim_quantum = 4\n",
        "\n",
        "x_classic = torch.rand(batch_size, seq_len := 10, 128)\n",
        "\n",
        "x_quantum = torch.rand(batch_size, seq_len, 4) * 2 - 1\n"
      ],
      "metadata": {
        "id": "mdniXP_1_Kn1"
      },
      "execution_count": 16,
      "outputs": []
    },
    {
      "cell_type": "code",
      "source": [
        "import time\n",
        "\n",
        "\n",
        "model_classic = TransformerClassic(embedding_dim=embedding_dim_classic)\n",
        "start = time.time()\n",
        "output_classic = model_classic(x_classic)\n",
        "time_classic = time.time() - start\n",
        "\n",
        "# Quantum Attention Timing\n",
        "model_quantum = TransformerQuantum(embedding_dim=embedding_dim_quantum, shots=256)\n",
        "start = time.time()\n",
        "output_quantum = model_quantum(x_quantum)\n",
        "time_quantum = time.time() - start\n",
        "\n",
        "print(f\"Classical Attention Time: {time_classic:.2f}s\")\n",
        "print(f\"Quantum Attention Time: {time_quantum:.2f}s\")\n"
      ],
      "metadata": {
        "colab": {
          "base_uri": "https://localhost:8080/"
        },
        "id": "e-cgXnGF_LSB",
        "outputId": "d291f16b-05a6-4056-e69c-903d01a4df19"
      },
      "execution_count": 18,
      "outputs": [
        {
          "output_type": "stream",
          "name": "stdout",
          "text": [
            "Classical Attention Time: 0.00s\n",
            "Quantum Attention Time: 0.60s\n"
          ]
        }
      ]
    },
    {
      "cell_type": "code",
      "source": [],
      "metadata": {
        "id": "a_mCnk6Z_vFz"
      },
      "execution_count": null,
      "outputs": []
    }
  ]
}
